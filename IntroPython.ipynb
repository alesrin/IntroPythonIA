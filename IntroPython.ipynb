{
 "cells": [
  {
   "cell_type": "markdown",
   "id": "7173f3da",
   "metadata": {},
   "source": [
    "# Sintaxis básica de Python"
   ]
  },
  {
   "cell_type": "markdown",
   "id": "eab6e26e",
   "metadata": {},
   "source": [
    "\n",
    "### Características de Python como lenguaje de programación\n",
    "- Indentación: Python es un lenguaje que utiliza identación  para definir la estructura y los bloques de código\n",
    "```python\n",
    "if True:\n",
    "    print('Verdadero')\n",
    "```\n",
    "- Utiliza un sistema de tipado dinámico\n",
    "```java\n",
    "int edad = 25\n",
    "```\n",
    "```python\n",
    "edad = 25\n",
    "```\n",
    "- Type Hints: anotaciones (solo sugerencias, no restricciones) de tipo documentan el tipo de datos que se espera de una función (mypy)\n",
    "```python\n",
    "def calculate_accuracy(correct: int, total: int) -> float:\n",
    "    \"\"\"\n",
    "    Calcula el accuracy de un modelo\n",
    "\n",
    "    La sintaxis `correct: int`indica que esperamos un entero\n",
    "    La sintaxis `-> float` indica que la función retorna un float\n",
    "\n",
    "    IMPORTANTE: Estos son HINTS (sugerencias), no restricciones\n",
    "    \"\"\"\n",
    "    return correct / total\n",
    "```\n",
    "- Duck typing \n",
    "- Strong typing\n",
    "- Everything is an object\n",
    "    1. Python crea un objeto con el valor 42 en MEMORIA.\n",
    "    2.  x es una refecencia (puntero) a ese objeto en memoria.\n",
    "    3.  El objeto siempre tiene metadatos (tipo, valor, reference count, etc)\n",
    "\n",
    "### Variables en Python\n",
    "Cuando creamos una variable de Python:\n",
    "    1. Python crea un objeto con metadatos (tipo, valor..) en memoria.\n",
    "    2. El nombre de esa variable es un puntero que referencia a ese objeto.\n",
    "\n",
    "### Naming variables\n",
    "- Los nombre de variables no pueden comenzar con un número o con un caracter especial a especión del _\n",
    "- No debo sobrepasar los 79 caracteres, en caso de hacerlo debo utilizar el caracter \\ para generar el break-salto de línea.\n",
    "- Por convención se utilizan minúsculas y snake_case para declarar variables cuyo naming incluya dos o más palabras.  \n",
    "- Nombre de las variables siempre deben ser descriptivos\n",
    "- Puedo declarar variables en bloque\n",
    "- No puedo utilizar palabras reservadas de la propia tecnologia"
   ]
  },
  {
   "cell_type": "code",
   "execution_count": null,
   "id": "5be5a853",
   "metadata": {},
   "outputs": [
    {
     "name": "stdout",
     "output_type": "stream",
     "text": [
      "Variable   Type      Data/Info\n",
      "------------------------------\n",
      "sys        module    <module 'sys' (built-in)>\n",
      "x          str       hello\n",
      "ID de x: 4345357848\n",
      "Tamaño de x: 28 bytes\n",
      "Tipo de x: <class 'int'>\n",
      "Reference count de x: 1000000036\n",
      "Tipo de x: <class 'str'>\n"
     ]
    }
   ],
   "source": [
    "%whos # Muestra las variables definidas en el entorno actual\n",
    "import sys # Importar el módulo sys para obtener información del sistema\n",
    "import math # Importar el módulo math para operaciones matemáticas\n",
    "\n",
    "x = 42\n",
    "\n",
    "\"\"\"\n",
    "Esto es un comentarios\n",
    "de múltiples líneas\n",
    "Se puede crear rápidamente seleccionando el texto y presionando\n",
    "Shift + Alt + A\n",
    "\"\"\"\n",
    "\n",
    "# Ver el ID del objeto en memoria\n",
    "print(f\"ID de x: {id(x)}\") \n",
    "\n",
    "# Ver el tamaño del objeto en bytes\n",
    "print(f\"Tamaño de x: {sys.getsizeof(x)} bytes\")\n",
    "\n",
    "# Ver el tipo de dato\n",
    "print(f\"Tipo de x: {type(x)}\")\n",
    "\n",
    "#Reference counting\n",
    "print(f\"Reference count de x: {sys.getrefcount(x)}\")\n",
    "\n",
    "x = \"hello\"\n",
    "print(f\"Tipo de x: {type(x)}\")\n",
    "\n",
    "# Tipos de datos en Python \n",
    "cadena_texto = \"Hola, Mundo!\"  # str\n",
    "cadena_texto_dos = 'Hola, Mundo!' # str\n",
    "numero_entero = 42             # int\n",
    "numero_flotante = 3.14         # float\n",
    "booleano = True                # bool\n",
    "\n",
    "# Buenas prácticas en la declaración de variables\n",
    "NOMBRE = \"Alejandra\" # Esto no es correcto\n",
    "nombre_y_apellido = \"Alejandra Espinosa\" # snake_case\n",
    "camelCase = \"variable\" # Esto no es correcto\n",
    "patatas_fritas = \"Alejandra\" # Esto no es descriptivo ni correcto\n",
    "alias, anios, altura = \"Ale\", 78, 1.70 # Declaración en bloque\n",
    "texto = \"Some teams strongly prefer a longer line length. For code maintained \\\n",
    "exclusively or primarily by a team that can reach agreement on this issue, it is \\\n",
    "    okay to increase the line length limit up to 99 characters, \\\n",
    "    provided that comments and docstrings are still wrapped at 72 characters.\"\n"
   ]
  },
  {
   "cell_type": "markdown",
   "id": "2b80e4a8",
   "metadata": {},
   "source": [
    "- En Python no se pueden utilizar palabras reservadas para nombrar variables"
   ]
  },
  {
   "cell_type": "code",
   "execution_count": 18,
   "id": "851d2eef",
   "metadata": {},
   "outputs": [
    {
     "name": "stdout",
     "output_type": "stream",
     "text": [
      "['False', 'None', 'True', 'and', 'as', 'assert', 'async', 'await', 'break', 'class', 'continue', 'def', 'del', 'elif', 'else', 'except', 'finally', 'for', 'from', 'global', 'if', 'import', 'in', 'is', 'lambda', 'nonlocal', 'not', 'or', 'pass', 'raise', 'return', 'try', 'while', 'with', 'yield']\n"
     ]
    }
   ],
   "source": [
    "import keyword\n",
    "print(keyword.kwlist)"
   ]
  },
  {
   "cell_type": "markdown",
   "id": "67a3fc68",
   "metadata": {},
   "source": [
    "### Estructura básica de un script en Python\n",
    "\n",
    "1. Importación de módulos- Al inicio del archivo\n",
    "2. Definición de funciones o variables -naming &rarr; snake_case\n",
    "3. Código principal"
   ]
  },
  {
   "cell_type": "code",
   "execution_count": null,
   "id": "90dd4ede",
   "metadata": {},
   "outputs": [],
   "source": [
    "# Variables globales\n",
    "pi = 3.1416\n",
    "def calcular_area_circulo(radio):\n",
    "    return math.pi * (radio ** 2)\n",
    "    variables_locales = None\n",
    "radio = 8\n",
    "print(\"El área del círculo es:\", calcular_area_circulo(radio))"
   ]
  }
 ],
 "metadata": {
  "kernelspec": {
   "display_name": ".venv",
   "language": "python",
   "name": "python3"
  },
  "language_info": {
   "codemirror_mode": {
    "name": "ipython",
    "version": 3
   },
   "file_extension": ".py",
   "mimetype": "text/x-python",
   "name": "python",
   "nbconvert_exporter": "python",
   "pygments_lexer": "ipython3",
   "version": "3.11.0"
  }
 },
 "nbformat": 4,
 "nbformat_minor": 5
}
